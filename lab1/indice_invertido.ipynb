{
 "cells": [
  {
   "cell_type": "code",
   "execution_count": 33,
   "metadata": {},
   "outputs": [],
   "source": [
    "import pandas as pd\n",
    "from nltk import word_tokenize\n",
    "from collections import Counter\n",
    "import sys\n",
    "import unittest"
   ]
  },
  {
   "cell_type": "code",
   "execution_count": 34,
   "metadata": {},
   "outputs": [],
   "source": [
    "data = pd.read_csv(\"data/noticias_estadao_processado_4.csv\")"
   ]
  },
  {
   "cell_type": "markdown",
   "metadata": {},
   "source": [
    "### Sobre os dados"
   ]
  },
  {
   "cell_type": "markdown",
   "metadata": {},
   "source": [
    "Os dados são referente a notícias, contendo 7643 observações e três variáveis, sendo elas referente a um identificador da notícia, título e conteúdo"
   ]
  },
  {
   "cell_type": "code",
   "execution_count": 35,
   "metadata": {},
   "outputs": [
    {
     "data": {
      "text/plain": [
       "(7643, 3)"
      ]
     },
     "execution_count": 35,
     "metadata": {},
     "output_type": "execute_result"
    }
   ],
   "source": [
    "data.shape"
   ]
  },
  {
   "cell_type": "code",
   "execution_count": 36,
   "metadata": {
    "scrolled": true
   },
   "outputs": [
    {
     "data": {
      "text/html": [
       "<div>\n",
       "<style scoped>\n",
       "    .dataframe tbody tr th:only-of-type {\n",
       "        vertical-align: middle;\n",
       "    }\n",
       "\n",
       "    .dataframe tbody tr th {\n",
       "        vertical-align: top;\n",
       "    }\n",
       "\n",
       "    .dataframe thead th {\n",
       "        text-align: right;\n",
       "    }\n",
       "</style>\n",
       "<table border=\"1\" class=\"dataframe\">\n",
       "  <thead>\n",
       "    <tr style=\"text-align: right;\">\n",
       "      <th></th>\n",
       "      <th>titulo</th>\n",
       "      <th>conteudo</th>\n",
       "      <th>idNoticia</th>\n",
       "    </tr>\n",
       "  </thead>\n",
       "  <tbody>\n",
       "    <tr>\n",
       "      <th>0</th>\n",
       "      <td>11 dos eleitores do País são filiados a legendas</td>\n",
       "      <td>Há porém variações regionais nesse fenômeno En...</td>\n",
       "      <td>7617</td>\n",
       "    </tr>\n",
       "    <tr>\n",
       "      <th>1</th>\n",
       "      <td>11 executivos integram 1º pedido de condenação...</td>\n",
       "      <td>CURITIBA A força-tarefa da Operação Lava Jato ...</td>\n",
       "      <td>412</td>\n",
       "    </tr>\n",
       "    <tr>\n",
       "      <th>2</th>\n",
       "      <td>11 executivos integram 1º pedido de condenação...</td>\n",
       "      <td>CURITIBA A força-tarefa da Operação Lava Jato ...</td>\n",
       "      <td>415</td>\n",
       "    </tr>\n",
       "    <tr>\n",
       "      <th>3</th>\n",
       "      <td>13 de deputados do PMDB quer romper com PT</td>\n",
       "      <td>O Estado ouviu 54 dos 74 deputados do PMDB em ...</td>\n",
       "      <td>6736</td>\n",
       "    </tr>\n",
       "    <tr>\n",
       "      <th>4</th>\n",
       "      <td>2014 começou em 2007</td>\n",
       "      <td>O estudo do Estadão Dados publicado ontem sobr...</td>\n",
       "      <td>7611</td>\n",
       "    </tr>\n",
       "  </tbody>\n",
       "</table>\n",
       "</div>"
      ],
      "text/plain": [
       "                                              titulo  \\\n",
       "0   11 dos eleitores do País são filiados a legendas   \n",
       "1  11 executivos integram 1º pedido de condenação...   \n",
       "2  11 executivos integram 1º pedido de condenação...   \n",
       "3         13 de deputados do PMDB quer romper com PT   \n",
       "4                               2014 começou em 2007   \n",
       "\n",
       "                                            conteudo  idNoticia  \n",
       "0  Há porém variações regionais nesse fenômeno En...       7617  \n",
       "1  CURITIBA A força-tarefa da Operação Lava Jato ...        412  \n",
       "2  CURITIBA A força-tarefa da Operação Lava Jato ...        415  \n",
       "3  O Estado ouviu 54 dos 74 deputados do PMDB em ...       6736  \n",
       "4  O estudo do Estadão Dados publicado ontem sobr...       7611  "
      ]
     },
     "execution_count": 36,
     "metadata": {},
     "output_type": "execute_result"
    }
   ],
   "source": [
    "data.head()"
   ]
  },
  {
   "cell_type": "markdown",
   "metadata": {},
   "source": [
    "### Agrupando título e conteúdo da notícia em uma mesma string"
   ]
  },
  {
   "cell_type": "code",
   "execution_count": null,
   "metadata": {},
   "outputs": [],
   "source": [
    "data[\"noticia\"] = data.apply(lambda row: (row[\"titulo\"] + \" \" + row[\"conteudo\"]).replace('.', '').lower(), axis=1)"
   ]
  },
  {
   "cell_type": "markdown",
   "metadata": {},
   "source": [
    "### Gerando lista de tokens para cada texto"
   ]
  },
  {
   "cell_type": "code",
   "execution_count": null,
   "metadata": {},
   "outputs": [],
   "source": [
    "tokens_by_rows = data.apply(lambda row : set(word_tokenize((row[\"noticia\"].replace('.', '').lower()))), axis=1)"
   ]
  },
  {
   "cell_type": "markdown",
   "metadata": {},
   "source": [
    "### Funções auxiliares"
   ]
  },
  {
   "cell_type": "code",
   "execution_count": null,
   "metadata": {},
   "outputs": [],
   "source": [
    "def create_inverted_index(data, tokens_by_rows, id_column):\n",
    "    '''\n",
    "        Função que cria índice invertido\n",
    "        Args:\n",
    "            data (:obj: `DataFrame`): dataframe com dados das notícias\n",
    "            tokens_by_rows (list): lista de sets com os tokens de cada notícia\n",
    "    '''\n",
    "    inverted_index = {}\n",
    "\n",
    "    for i in range(len(tokens_by_rows)):\n",
    "        for key in tokens_by_rows[i]:\n",
    "            if key in inverted_index:\n",
    "                inverted_index[key].append(data.at[i, id_column])\n",
    "            else:\n",
    "                inverted_index[key] = [data.at[i, id_column]]\n",
    "    return inverted_index"
   ]
  },
  {
   "cell_type": "code",
   "execution_count": null,
   "metadata": {},
   "outputs": [],
   "source": [
    "def get_token_less_docs(tokens, inverted_index):\n",
    "    \n",
    "    '''\n",
    "        Função que recupera token com a menor lista de documentos\n",
    "        Args:\n",
    "            tokens (list): lista de tokens\n",
    "            inverted_index (dict): dicionário do índice invertido\n",
    "        Return:\n",
    "            token_less_docs (str): token que possui o menor número de documentos\n",
    "    '''\n",
    "    less_docs_size = sys.maxsize\n",
    "    token_less_docs = None\n",
    "    for token in tokens:\n",
    "        if len(inverted_index[token]) < less_docs_size:\n",
    "            less_docs_size = len(inverted_index[token])\n",
    "            token_less_docs = token\n",
    "    return token_less_docs"
   ]
  },
  {
   "cell_type": "code",
   "execution_count": null,
   "metadata": {},
   "outputs": [],
   "source": [
    "def get_documents_by_token(token, inverted_index):\n",
    "    '''\n",
    "        Recupera os documentos referentes a um token\n",
    "        Args:\n",
    "            token (str): string que representa um token\n",
    "            inverted_index (dict): índice invertido\n",
    "        Return\n",
    "            resp (list): lista de documentos associados ao token\n",
    "    '''\n",
    "    try:\n",
    "        resp = inverted_index[token]\n",
    "    except:\n",
    "        resp = []\n",
    "    return resp"
   ]
  },
  {
   "cell_type": "code",
   "execution_count": null,
   "metadata": {},
   "outputs": [],
   "source": [
    "def get_documents_by_tokens(text, operator,inverted_index):\n",
    "    '''\n",
    "        Recupera os ids de documentos entre dois tokens\n",
    "        Args:\n",
    "            text (str): string de busca com dois termos\n",
    "            operator (str): operador lógico (AND / OR)\n",
    "            inverted_index (dict): índice invertido\n",
    "        Return:\n",
    "            resp (list): lista com índices de documentos baseados nos tokens e operação lógica\n",
    "            \n",
    "    '''\n",
    "    \n",
    "    tokens = word_tokenize(text.lower())\n",
    "    resp = []\n",
    "    \n",
    "    if operator == \"and\":\n",
    "        \n",
    "        token_less_docs = get_token_less_docs(tokens, inverted_index)\n",
    "        tokens.remove(token_less_docs)\n",
    "        \n",
    "        smaller_list = get_documents_by_token(token_less_docs, inverted_index)\n",
    "        lists_to_check = [get_documents_by_token(token, inverted_index) for token in tokens]\n",
    "        \n",
    "        for item in smaller_list:\n",
    "            counter = 0\n",
    "            for list_to_check in lists_to_check:\n",
    "                if item not in list_to_check:\n",
    "                    break\n",
    "                else:\n",
    "                    counter+=1\n",
    "            if counter == len(lists_to_check):\n",
    "                resp.append(item)       \n",
    "    elif operator == \"or\":\n",
    "        resp = list(set(sum([get_documents_by_token(token, inverted_index) for token in tokens], [])))\n",
    "    \n",
    "    return resp"
   ]
  },
  {
   "cell_type": "code",
   "execution_count": null,
   "metadata": {},
   "outputs": [],
   "source": [
    "def search(str_search, inverted_index):\n",
    "    '''\n",
    "        Recupera os documentos para uma string de busca\n",
    "        \n",
    "        Args:\n",
    "            str_search (str): String de busca\n",
    "            inverted_index (dict): Dicionário de índice invertido.\n",
    "    '''\n",
    "    resp = []\n",
    "    \n",
    "    and_lists = str_search.split(\" OR \")\n",
    "    and_lists = [and_list.replace(\" AND \", \" \") for and_list in and_lists]\n",
    "    \n",
    "    for and_list in and_lists:\n",
    "        resp.append(get_documents_by_tokens(and_list, \"and\", inverted_index))\n",
    "    \n",
    "    return list(set(sum(resp, [])))"
   ]
  },
  {
   "cell_type": "markdown",
   "metadata": {},
   "source": [
    "### Criando o Índice Invertido"
   ]
  },
  {
   "cell_type": "code",
   "execution_count": null,
   "metadata": {},
   "outputs": [],
   "source": [
    "inverted_index = create_inverted_index(data, tokens_by_rows, 'idNoticia')"
   ]
  },
  {
   "cell_type": "markdown",
   "metadata": {},
   "source": [
    "## Exemplos para teste"
   ]
  },
  {
   "cell_type": "markdown",
   "metadata": {},
   "source": [
    "### 1. debate, presidenciável (AND e OR)"
   ]
  },
  {
   "cell_type": "code",
   "execution_count": null,
   "metadata": {},
   "outputs": [],
   "source": [
    "assert len(search(\"debate OR presidencial\", inverted_index)) == 1770"
   ]
  },
  {
   "cell_type": "code",
   "execution_count": null,
   "metadata": {},
   "outputs": [],
   "source": [
    "assert len(search(\"debate AND presidencial\", inverted_index)) == 201"
   ]
  },
  {
   "cell_type": "markdown",
   "metadata": {},
   "source": [
    "### 2. presidenciáveis, corruptos (AND e OR)"
   ]
  },
  {
   "cell_type": "code",
   "execution_count": null,
   "metadata": {},
   "outputs": [],
   "source": [
    "assert len(search(\"presidenciáveis OR corruptos\", inverted_index)) == 164"
   ]
  },
  {
   "cell_type": "code",
   "execution_count": null,
   "metadata": {},
   "outputs": [],
   "source": [
    "assert len(search(\"presidenciáveis AND corruptos\", inverted_index))== 0"
   ]
  },
  {
   "cell_type": "markdown",
   "metadata": {},
   "source": [
    "### 3. Belo, Horizonte (AND e OR)"
   ]
  },
  {
   "cell_type": "code",
   "execution_count": null,
   "metadata": {},
   "outputs": [],
   "source": [
    "assert len(search(\"Belo OR Horizonte\", inverted_index)) == 331"
   ]
  },
  {
   "cell_type": "code",
   "execution_count": null,
   "metadata": {},
   "outputs": [],
   "source": [
    "assert len(search(\"Belo AND Horizonte\", inverted_index)) == 242"
   ]
  },
  {
   "cell_type": "markdown",
   "metadata": {},
   "source": [
    "### 4. Campina, Grande (AND e OR)"
   ]
  },
  {
   "cell_type": "code",
   "execution_count": null,
   "metadata": {},
   "outputs": [],
   "source": [
    "assert len(search(\"Campina OR Grande\", inverted_index)) == len(inverted_index['campina']) + len(inverted_index['grande']) - len(search(\"Campina AND Grande\", inverted_index))"
   ]
  },
  {
   "cell_type": "code",
   "execution_count": null,
   "metadata": {},
   "outputs": [],
   "source": [
    "assert len(search(\"Campina OR Grande\", inverted_index)) == 1656"
   ]
  },
  {
   "cell_type": "code",
   "execution_count": null,
   "metadata": {},
   "outputs": [],
   "source": [
    "assert len(search(\"Campina AND Grande\", inverted_index)) == 12"
   ]
  },
  {
   "cell_type": "markdown",
   "metadata": {},
   "source": [
    "### EXTRAS"
   ]
  },
  {
   "cell_type": "code",
   "execution_count": null,
   "metadata": {},
   "outputs": [],
   "source": [
    "assert len(search(\"Campina OR Grande OR Paraíba\", inverted_index)) == 1719"
   ]
  },
  {
   "cell_type": "markdown",
   "metadata": {},
   "source": [
    "Na teoria dos conjuntos, a propriedade lógica \"OR\" pode ser entendida como a operação de união. Um possível teste\n",
    "para a entrada acima pode ser feito verificando a igualdade entre a cardinalidade de cada operação com os conjuntos\n",
    "descritos abaixo:"
   ]
  },
  {
   "cell_type": "markdown",
   "metadata": {},
   "source": [
    "$$ \\mid A \\cup B \\cup C \\mid  =  \\mid A \\mid  + \\mid B \\mid + \\mid C \\mid - \\mid A \\cap B \\mid - \\mid B \\cap C \\mid - \\mid A \\cap C \\mid + \\mid A \\cap B \\cap C \\mid $$"
   ]
  },
  {
   "cell_type": "code",
   "execution_count": null,
   "metadata": {},
   "outputs": [],
   "source": [
    "assert len(search(\"Campina OR Grande OR Paraíba\", inverted_index)) == len(search(\"Campina\", inverted_index)) + len(search(\"Grande\", inverted_index)) + len(search(\"Paraíba\", inverted_index)) - len(search(\"Campina AND Paraíba\", inverted_index)) - len(search(\"Campina AND Grande\", inverted_index)) - len(search(\"Grande AND Paraíba\", inverted_index)) + len(search(\"Campina AND Grande AND Paraíba\", inverted_index))"
   ]
  },
  {
   "cell_type": "markdown",
   "metadata": {},
   "source": [
    "$$ \\mid A \\cap B \\cap C \\mid  = \\mid A \\cup B \\cup C \\mid  -  \\mid A \\mid  - \\mid B \\mid - \\mid C \\mid + \\mid A \\cap B \\mid + \\mid B \\cap C \\mid + \\mid A \\cap C \\mid$$"
   ]
  },
  {
   "cell_type": "code",
   "execution_count": null,
   "metadata": {},
   "outputs": [],
   "source": [
    "assert len(search(\"Campina AND Grande AND Paraíba\", inverted_index)) == 8"
   ]
  },
  {
   "cell_type": "code",
   "execution_count": null,
   "metadata": {},
   "outputs": [],
   "source": [
    "assert len(search(\"Campina AND Grande AND Paraíba\", inverted_index)) == len(search(\"Campina OR Grande OR Paraíba\", inverted_index)) - len(search(\"Campina\", inverted_index)) - len(search(\"Grande\", inverted_index)) - len(search(\"Paraíba\", inverted_index)) + len(search(\"Campina AND Paraíba\", inverted_index)) + len(search(\"Campina AND Grande\", inverted_index)) + len(search(\"Grande AND Paraíba\", inverted_index))"
   ]
  }
 ],
 "metadata": {
  "kernelspec": {
   "display_name": "Python [default]",
   "language": "python",
   "name": "python3"
  },
  "language_info": {
   "codemirror_mode": {
    "name": "ipython",
    "version": 3
   },
   "file_extension": ".py",
   "mimetype": "text/x-python",
   "name": "python",
   "nbconvert_exporter": "python",
   "pygments_lexer": "ipython3",
   "version": "3.6.4"
  }
 },
 "nbformat": 4,
 "nbformat_minor": 2
}

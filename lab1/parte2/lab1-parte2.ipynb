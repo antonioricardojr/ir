{
 "cells": [
  {
   "cell_type": "code",
   "execution_count": 1,
   "metadata": {},
   "outputs": [],
   "source": [
    "import warnings\n",
    "warnings.filterwarnings('ignore')\n",
    "\n",
    "import numpy as np\n",
    "import pandas as pd\n",
    "from nltk import word_tokenize\n",
    "from collections import Counter\n",
    "%matplotlib inline\n",
    "from ggplot import *\n"
   ]
  },
  {
   "cell_type": "markdown",
   "metadata": {},
   "source": [
    "### Carregando os dados"
   ]
  },
  {
   "cell_type": "code",
   "execution_count": 2,
   "metadata": {},
   "outputs": [],
   "source": [
    "dados = pd.read_csv(\"../dados/estadao_noticias_eleicao.csv\")"
   ]
  },
  {
   "cell_type": "code",
   "execution_count": 3,
   "metadata": {},
   "outputs": [
    {
     "data": {
      "text/html": [
       "<div>\n",
       "<style scoped>\n",
       "    .dataframe tbody tr th:only-of-type {\n",
       "        vertical-align: middle;\n",
       "    }\n",
       "\n",
       "    .dataframe tbody tr th {\n",
       "        vertical-align: top;\n",
       "    }\n",
       "\n",
       "    .dataframe thead th {\n",
       "        text-align: right;\n",
       "    }\n",
       "</style>\n",
       "<table border=\"1\" class=\"dataframe\">\n",
       "  <thead>\n",
       "    <tr style=\"text-align: right;\">\n",
       "      <th></th>\n",
       "      <th>timestamp</th>\n",
       "      <th>titulo</th>\n",
       "      <th>subTitulo</th>\n",
       "      <th>conteudo</th>\n",
       "      <th>url</th>\n",
       "      <th>idNoticia</th>\n",
       "    </tr>\n",
       "  </thead>\n",
       "  <tbody>\n",
       "    <tr>\n",
       "      <th>0</th>\n",
       "      <td>2014-12-31T00:00:00Z</td>\n",
       "      <td>PT espera 30 mil pessoas em festa na Esplanada</td>\n",
       "      <td>Objetivo é demonstrar apoio popular a Dilma e ...</td>\n",
       "      <td>BRASÍLIA - Após o desgaste provocado com o lan...</td>\n",
       "      <td>http://politica.estadao.com.br/noticias/geral,...</td>\n",
       "      <td>1</td>\n",
       "    </tr>\n",
       "    <tr>\n",
       "      <th>1</th>\n",
       "      <td>2014-12-31T00:00:00Z</td>\n",
       "      <td>Alckmin toma posse de olho no Planalto</td>\n",
       "      <td>Governador reeleito tenta amarrar tucanos paul...</td>\n",
       "      <td>Reeleito em outubro, o governador tucano Geral...</td>\n",
       "      <td>http://politica.estadao.com.br/noticias/geral,...</td>\n",
       "      <td>2</td>\n",
       "    </tr>\n",
       "    <tr>\n",
       "      <th>2</th>\n",
       "      <td>2014-12-31T00:00:00Z</td>\n",
       "      <td>Seis obstáculos e desafios do segundo mandato ...</td>\n",
       "      <td>Em meio a escândalo de corrupção, presidente t...</td>\n",
       "      <td>1. Rearranjo das contas A nova equipe econôm...</td>\n",
       "      <td>http://politica.estadao.com.br/noticias/geral,...</td>\n",
       "      <td>3</td>\n",
       "    </tr>\n",
       "    <tr>\n",
       "      <th>3</th>\n",
       "      <td>2014-12-31T00:00:00Z</td>\n",
       "      <td>NaN</td>\n",
       "      <td>Veja as principais fotos do dia e dos eventos ...</td>\n",
       "      <td>NaN</td>\n",
       "      <td>http://fotos.estadao.com.br/fotos/politica,dil...</td>\n",
       "      <td>4</td>\n",
       "    </tr>\n",
       "    <tr>\n",
       "      <th>4</th>\n",
       "      <td>2014-12-31T00:00:00Z</td>\n",
       "      <td>NaN</td>\n",
       "      <td>Veja as principais fotos do dia e dos eventos ...</td>\n",
       "      <td>NaN</td>\n",
       "      <td>http://fotos.estadao.com.br/fotos/politica,dil...</td>\n",
       "      <td>5</td>\n",
       "    </tr>\n",
       "  </tbody>\n",
       "</table>\n",
       "</div>"
      ],
      "text/plain": [
       "              timestamp                                             titulo  \\\n",
       "0  2014-12-31T00:00:00Z     PT espera 30 mil pessoas em festa na Esplanada   \n",
       "1  2014-12-31T00:00:00Z             Alckmin toma posse de olho no Planalto   \n",
       "2  2014-12-31T00:00:00Z  Seis obstáculos e desafios do segundo mandato ...   \n",
       "3  2014-12-31T00:00:00Z                                                NaN   \n",
       "4  2014-12-31T00:00:00Z                                                NaN   \n",
       "\n",
       "                                           subTitulo  \\\n",
       "0  Objetivo é demonstrar apoio popular a Dilma e ...   \n",
       "1  Governador reeleito tenta amarrar tucanos paul...   \n",
       "2  Em meio a escândalo de corrupção, presidente t...   \n",
       "3  Veja as principais fotos do dia e dos eventos ...   \n",
       "4  Veja as principais fotos do dia e dos eventos ...   \n",
       "\n",
       "                                            conteudo  \\\n",
       "0  BRASÍLIA - Após o desgaste provocado com o lan...   \n",
       "1  Reeleito em outubro, o governador tucano Geral...   \n",
       "2    1. Rearranjo das contas A nova equipe econôm...   \n",
       "3                                                NaN   \n",
       "4                                                NaN   \n",
       "\n",
       "                                                 url  idNoticia  \n",
       "0  http://politica.estadao.com.br/noticias/geral,...          1  \n",
       "1  http://politica.estadao.com.br/noticias/geral,...          2  \n",
       "2  http://politica.estadao.com.br/noticias/geral,...          3  \n",
       "3  http://fotos.estadao.com.br/fotos/politica,dil...          4  \n",
       "4  http://fotos.estadao.com.br/fotos/politica,dil...          5  "
      ]
     },
     "execution_count": 3,
     "metadata": {},
     "output_type": "execute_result"
    }
   ],
   "source": [
    "dados.head()"
   ]
  },
  {
   "cell_type": "markdown",
   "metadata": {},
   "source": [
    "### Substituindo valores faltantes"
   ]
  },
  {
   "cell_type": "code",
   "execution_count": 4,
   "metadata": {},
   "outputs": [],
   "source": [
    "dados = dados.replace(np.nan, '', regex=True)"
   ]
  },
  {
   "cell_type": "markdown",
   "metadata": {},
   "source": [
    "### Overview"
   ]
  },
  {
   "cell_type": "code",
   "execution_count": 4,
   "metadata": {},
   "outputs": [
    {
     "data": {
      "text/html": [
       "<div>\n",
       "<style scoped>\n",
       "    .dataframe tbody tr th:only-of-type {\n",
       "        vertical-align: middle;\n",
       "    }\n",
       "\n",
       "    .dataframe tbody tr th {\n",
       "        vertical-align: top;\n",
       "    }\n",
       "\n",
       "    .dataframe thead th {\n",
       "        text-align: right;\n",
       "    }\n",
       "</style>\n",
       "<table border=\"1\" class=\"dataframe\">\n",
       "  <thead>\n",
       "    <tr style=\"text-align: right;\">\n",
       "      <th></th>\n",
       "      <th>timestamp</th>\n",
       "      <th>titulo</th>\n",
       "      <th>subTitulo</th>\n",
       "      <th>conteudo</th>\n",
       "      <th>url</th>\n",
       "      <th>idNoticia</th>\n",
       "    </tr>\n",
       "  </thead>\n",
       "  <tbody>\n",
       "    <tr>\n",
       "      <th>0</th>\n",
       "      <td>2014-12-31T00:00:00Z</td>\n",
       "      <td>PT espera 30 mil pessoas em festa na Esplanada</td>\n",
       "      <td>Objetivo é demonstrar apoio popular a Dilma e ...</td>\n",
       "      <td>BRASÍLIA - Após o desgaste provocado com o lan...</td>\n",
       "      <td>http://politica.estadao.com.br/noticias/geral,...</td>\n",
       "      <td>1</td>\n",
       "    </tr>\n",
       "    <tr>\n",
       "      <th>1</th>\n",
       "      <td>2014-12-31T00:00:00Z</td>\n",
       "      <td>Alckmin toma posse de olho no Planalto</td>\n",
       "      <td>Governador reeleito tenta amarrar tucanos paul...</td>\n",
       "      <td>Reeleito em outubro, o governador tucano Geral...</td>\n",
       "      <td>http://politica.estadao.com.br/noticias/geral,...</td>\n",
       "      <td>2</td>\n",
       "    </tr>\n",
       "    <tr>\n",
       "      <th>2</th>\n",
       "      <td>2014-12-31T00:00:00Z</td>\n",
       "      <td>Seis obstáculos e desafios do segundo mandato ...</td>\n",
       "      <td>Em meio a escândalo de corrupção, presidente t...</td>\n",
       "      <td>1. Rearranjo das contas A nova equipe econôm...</td>\n",
       "      <td>http://politica.estadao.com.br/noticias/geral,...</td>\n",
       "      <td>3</td>\n",
       "    </tr>\n",
       "    <tr>\n",
       "      <th>3</th>\n",
       "      <td>2014-12-31T00:00:00Z</td>\n",
       "      <td>NaN</td>\n",
       "      <td>Veja as principais fotos do dia e dos eventos ...</td>\n",
       "      <td>NaN</td>\n",
       "      <td>http://fotos.estadao.com.br/fotos/politica,dil...</td>\n",
       "      <td>4</td>\n",
       "    </tr>\n",
       "    <tr>\n",
       "      <th>4</th>\n",
       "      <td>2014-12-31T00:00:00Z</td>\n",
       "      <td>NaN</td>\n",
       "      <td>Veja as principais fotos do dia e dos eventos ...</td>\n",
       "      <td>NaN</td>\n",
       "      <td>http://fotos.estadao.com.br/fotos/politica,dil...</td>\n",
       "      <td>5</td>\n",
       "    </tr>\n",
       "  </tbody>\n",
       "</table>\n",
       "</div>"
      ],
      "text/plain": [
       "              timestamp                                             titulo  \\\n",
       "0  2014-12-31T00:00:00Z     PT espera 30 mil pessoas em festa na Esplanada   \n",
       "1  2014-12-31T00:00:00Z             Alckmin toma posse de olho no Planalto   \n",
       "2  2014-12-31T00:00:00Z  Seis obstáculos e desafios do segundo mandato ...   \n",
       "3  2014-12-31T00:00:00Z                                                NaN   \n",
       "4  2014-12-31T00:00:00Z                                                NaN   \n",
       "\n",
       "                                           subTitulo  \\\n",
       "0  Objetivo é demonstrar apoio popular a Dilma e ...   \n",
       "1  Governador reeleito tenta amarrar tucanos paul...   \n",
       "2  Em meio a escândalo de corrupção, presidente t...   \n",
       "3  Veja as principais fotos do dia e dos eventos ...   \n",
       "4  Veja as principais fotos do dia e dos eventos ...   \n",
       "\n",
       "                                            conteudo  \\\n",
       "0  BRASÍLIA - Após o desgaste provocado com o lan...   \n",
       "1  Reeleito em outubro, o governador tucano Geral...   \n",
       "2    1. Rearranjo das contas A nova equipe econôm...   \n",
       "3                                                NaN   \n",
       "4                                                NaN   \n",
       "\n",
       "                                                 url  idNoticia  \n",
       "0  http://politica.estadao.com.br/noticias/geral,...          1  \n",
       "1  http://politica.estadao.com.br/noticias/geral,...          2  \n",
       "2  http://politica.estadao.com.br/noticias/geral,...          3  \n",
       "3  http://fotos.estadao.com.br/fotos/politica,dil...          4  \n",
       "4  http://fotos.estadao.com.br/fotos/politica,dil...          5  "
      ]
     },
     "execution_count": 4,
     "metadata": {},
     "output_type": "execute_result"
    }
   ],
   "source": [
    "dados.head()"
   ]
  },
  {
   "cell_type": "code",
   "execution_count": 6,
   "metadata": {},
   "outputs": [],
   "source": [
    "dados['documento'] = dados.titulo + ' ' + dados.subTitulo + ' ' + dados.conteudo"
   ]
  },
  {
   "cell_type": "markdown",
   "metadata": {},
   "source": [
    "### Tokens por documento"
   ]
  },
  {
   "cell_type": "code",
   "execution_count": 7,
   "metadata": {},
   "outputs": [],
   "source": [
    "dados['tokens'] = dados.apply(lambda row: Counter(word_tokenize(row['documento'].replace('.', '').lower())), axis=1)"
   ]
  },
  {
   "cell_type": "code",
   "execution_count": 5,
   "metadata": {},
   "outputs": [
    {
     "data": {
      "text/html": [
       "<div>\n",
       "<style scoped>\n",
       "    .dataframe tbody tr th:only-of-type {\n",
       "        vertical-align: middle;\n",
       "    }\n",
       "\n",
       "    .dataframe tbody tr th {\n",
       "        vertical-align: top;\n",
       "    }\n",
       "\n",
       "    .dataframe thead th {\n",
       "        text-align: right;\n",
       "    }\n",
       "</style>\n",
       "<table border=\"1\" class=\"dataframe\">\n",
       "  <thead>\n",
       "    <tr style=\"text-align: right;\">\n",
       "      <th></th>\n",
       "      <th>timestamp</th>\n",
       "      <th>titulo</th>\n",
       "      <th>subTitulo</th>\n",
       "      <th>conteudo</th>\n",
       "      <th>url</th>\n",
       "      <th>idNoticia</th>\n",
       "    </tr>\n",
       "  </thead>\n",
       "  <tbody>\n",
       "    <tr>\n",
       "      <th>0</th>\n",
       "      <td>2014-12-31T00:00:00Z</td>\n",
       "      <td>PT espera 30 mil pessoas em festa na Esplanada</td>\n",
       "      <td>Objetivo é demonstrar apoio popular a Dilma e ...</td>\n",
       "      <td>BRASÍLIA - Após o desgaste provocado com o lan...</td>\n",
       "      <td>http://politica.estadao.com.br/noticias/geral,...</td>\n",
       "      <td>1</td>\n",
       "    </tr>\n",
       "    <tr>\n",
       "      <th>1</th>\n",
       "      <td>2014-12-31T00:00:00Z</td>\n",
       "      <td>Alckmin toma posse de olho no Planalto</td>\n",
       "      <td>Governador reeleito tenta amarrar tucanos paul...</td>\n",
       "      <td>Reeleito em outubro, o governador tucano Geral...</td>\n",
       "      <td>http://politica.estadao.com.br/noticias/geral,...</td>\n",
       "      <td>2</td>\n",
       "    </tr>\n",
       "    <tr>\n",
       "      <th>2</th>\n",
       "      <td>2014-12-31T00:00:00Z</td>\n",
       "      <td>Seis obstáculos e desafios do segundo mandato ...</td>\n",
       "      <td>Em meio a escândalo de corrupção, presidente t...</td>\n",
       "      <td>1. Rearranjo das contas A nova equipe econôm...</td>\n",
       "      <td>http://politica.estadao.com.br/noticias/geral,...</td>\n",
       "      <td>3</td>\n",
       "    </tr>\n",
       "    <tr>\n",
       "      <th>3</th>\n",
       "      <td>2014-12-31T00:00:00Z</td>\n",
       "      <td>NaN</td>\n",
       "      <td>Veja as principais fotos do dia e dos eventos ...</td>\n",
       "      <td>NaN</td>\n",
       "      <td>http://fotos.estadao.com.br/fotos/politica,dil...</td>\n",
       "      <td>4</td>\n",
       "    </tr>\n",
       "    <tr>\n",
       "      <th>4</th>\n",
       "      <td>2014-12-31T00:00:00Z</td>\n",
       "      <td>NaN</td>\n",
       "      <td>Veja as principais fotos do dia e dos eventos ...</td>\n",
       "      <td>NaN</td>\n",
       "      <td>http://fotos.estadao.com.br/fotos/politica,dil...</td>\n",
       "      <td>5</td>\n",
       "    </tr>\n",
       "  </tbody>\n",
       "</table>\n",
       "</div>"
      ],
      "text/plain": [
       "              timestamp                                             titulo  \\\n",
       "0  2014-12-31T00:00:00Z     PT espera 30 mil pessoas em festa na Esplanada   \n",
       "1  2014-12-31T00:00:00Z             Alckmin toma posse de olho no Planalto   \n",
       "2  2014-12-31T00:00:00Z  Seis obstáculos e desafios do segundo mandato ...   \n",
       "3  2014-12-31T00:00:00Z                                                NaN   \n",
       "4  2014-12-31T00:00:00Z                                                NaN   \n",
       "\n",
       "                                           subTitulo  \\\n",
       "0  Objetivo é demonstrar apoio popular a Dilma e ...   \n",
       "1  Governador reeleito tenta amarrar tucanos paul...   \n",
       "2  Em meio a escândalo de corrupção, presidente t...   \n",
       "3  Veja as principais fotos do dia e dos eventos ...   \n",
       "4  Veja as principais fotos do dia e dos eventos ...   \n",
       "\n",
       "                                            conteudo  \\\n",
       "0  BRASÍLIA - Após o desgaste provocado com o lan...   \n",
       "1  Reeleito em outubro, o governador tucano Geral...   \n",
       "2    1. Rearranjo das contas A nova equipe econôm...   \n",
       "3                                                NaN   \n",
       "4                                                NaN   \n",
       "\n",
       "                                                 url  idNoticia  \n",
       "0  http://politica.estadao.com.br/noticias/geral,...          1  \n",
       "1  http://politica.estadao.com.br/noticias/geral,...          2  \n",
       "2  http://politica.estadao.com.br/noticias/geral,...          3  \n",
       "3  http://fotos.estadao.com.br/fotos/politica,dil...          4  \n",
       "4  http://fotos.estadao.com.br/fotos/politica,dil...          5  "
      ]
     },
     "execution_count": 5,
     "metadata": {},
     "output_type": "execute_result"
    }
   ],
   "source": [
    "dados.head()"
   ]
  },
  {
   "cell_type": "markdown",
   "metadata": {},
   "source": [
    "### Criando índice invertido"
   ]
  },
  {
   "cell_type": "code",
   "execution_count": 9,
   "metadata": {},
   "outputs": [],
   "source": [
    "indice_invertido = {}"
   ]
  },
  {
   "cell_type": "code",
   "execution_count": 10,
   "metadata": {},
   "outputs": [],
   "source": [
    "for token_list, id_noticia in zip(dados.tokens, dados.idNoticia):\n",
    "    for token in token_list.keys():\n",
    "        if token not in indice_invertido.keys():\n",
    "            indice_invertido[token] = [id_noticia]\n",
    "        else:\n",
    "            indice_invertido[token].append(id_noticia)    "
   ]
  },
  {
   "cell_type": "markdown",
   "metadata": {},
   "source": [
    "### Funções auxiliares"
   ]
  },
  {
   "cell_type": "code",
   "execution_count": 11,
   "metadata": {},
   "outputs": [],
   "source": [
    "def OR(termos):\n",
    "    '''\n",
    "        Retorna uma lista de ids de documentos que possuem ao menos um dos termos\n",
    "\n",
    "        params:\n",
    "            termos (list): uma lista de termos\n",
    "        returns:\n",
    "            resp (set) um conjunto de ids de documentos\n",
    "    '''\n",
    "    return set(indice_invertido[termos[0]]) | set(indice_invertido[termos[1]])"
   ]
  },
  {
   "cell_type": "code",
   "execution_count": 12,
   "metadata": {},
   "outputs": [],
   "source": [
    "def AND(termos):\n",
    "    '''\n",
    "        Retorna uma lista de ids de documentos que possuem todos os termos\n",
    "        \n",
    "        params:\n",
    "            termos (list): uma lista de termos\n",
    "        returns:\n",
    "            resp (set) um conjunto de ids de documentos\n",
    "    '''\n",
    "    resp = set(indice_invertido[termos[0]])\n",
    "    for termo in termos:\n",
    "        resp = resp.intersection(set(indice_invertido[termo]))\n",
    "    return resp"
   ]
  },
  {
   "cell_type": "markdown",
   "metadata": {},
   "source": [
    "$$\n",
    "\\begin{equation}\n",
    "\\label{inverse document frequency}\n",
    "idf(t,D) = \\log\\frac{N}{|d \\in D : t\\in d|}\n",
    "\\end{equation}\n",
    "$$"
   ]
  },
  {
   "cell_type": "markdown",
   "metadata": {},
   "source": [
    "onde: \n",
    "- t: é o termo a ser observado.\n",
    "- d: é o documento a ser observado\n",
    "- D: é o conjunto de documentos\n",
    "- N: é o total de documentos no \\textit{corpus} N = |D|."
   ]
  },
  {
   "cell_type": "code",
   "execution_count": 13,
   "metadata": {},
   "outputs": [],
   "source": [
    "def idf(termo, indice_invertido):\n",
    "    '''\n",
    "        Função que retorna o idf. Baseia-se na presença do termo nos documentos do corpus.\n",
    "        params:\n",
    "            termo (str): termo alvo a ser calculado o idf.\n",
    "            indice_invertido (dict): dicionário com todos os índices presentes no corpus.\n",
    "    '''\n",
    "    \n",
    "    N = dados.shape[0] # tamanho do corpus\n",
    "    return np.log(N/len(indice_invertido[termo.lower().strip()]))"
   ]
  },
  {
   "cell_type": "code",
   "execution_count": 14,
   "metadata": {},
   "outputs": [],
   "source": [
    "def processa_entrada(str_busca):\n",
    "    return str_busca.lower().split(' ')"
   ]
  },
  {
   "cell_type": "code",
   "execution_count": 15,
   "metadata": {},
   "outputs": [],
   "source": [
    "def busca(str_busca,operador=\"and\",tipo=\"binaria\", n=5):\n",
    "    \n",
    "    termos = processa_entrada(str_busca)\n",
    "    doc_ids = list(busca_binaria(termos, operador))\n",
    "\n",
    "    resp = []\n",
    "    \n",
    "    if tipo == \"binaria\":\n",
    "        resp = doc_ids\n",
    "    elif tipo == \"tf\":\n",
    "        resp = busca_tf(termos, doc_ids, n)\n",
    "    elif tipo == \"tfidf\":\n",
    "        resp = busca_tfidf(termos, doc_ids, n)\n",
    "    elif tipo == \"bm25\":\n",
    "        resp = busca_bm25(termos, doc_ids, n)\n",
    "        \n",
    "    return resp[:n]"
   ]
  },
  {
   "cell_type": "markdown",
   "metadata": {},
   "source": [
    "### Busca binária"
   ]
  },
  {
   "cell_type": "code",
   "execution_count": 16,
   "metadata": {},
   "outputs": [],
   "source": [
    "def busca_binaria(termos, operador):\n",
    "    \n",
    "    resp = []\n",
    "    \n",
    "    if operador == 'or':\n",
    "        resp = OR(termos)\n",
    "    elif operador == 'and':\n",
    "        resp = AND(termos)\n",
    "        \n",
    "    return resp"
   ]
  },
  {
   "cell_type": "markdown",
   "metadata": {},
   "source": [
    "### Resultados Busca Binária"
   ]
  },
  {
   "cell_type": "code",
   "execution_count": 17,
   "metadata": {},
   "outputs": [],
   "source": [
    "busca_binaria_predicoes = [busca(\"segundo turno\"),busca(\"lava jato\"),busca(\"projeto de lei\"), busca(\"compra de voto\"),\n",
    "                          busca(\"ministério público\")]"
   ]
  },
  {
   "cell_type": "code",
   "execution_count": 18,
   "metadata": {},
   "outputs": [
    {
     "data": {
      "text/plain": [
       "[[2048, 1, 2049, 2050, 4096],\n",
       " [3, 13, 15, 27, 6177],\n",
       " [3584, 6145, 8194, 8706, 6660],\n",
       " [7424, 2178, 6531, 5122, 2311],\n",
       " [8194, 7, 4104, 8201, 4109]]"
      ]
     },
     "execution_count": 18,
     "metadata": {},
     "output_type": "execute_result"
    }
   ],
   "source": [
    "busca_binaria_predicoes"
   ]
  },
  {
   "cell_type": "code",
   "execution_count": 19,
   "metadata": {},
   "outputs": [],
   "source": [
    "def busca_tf(termos, doc_ids, n):\n",
    "    \n",
    "    '''\n",
    "        Retorna os ids dos documentos a partir da frequência total dos termos.\n",
    "        params:\n",
    "            termos (list): lista de termos presentes nos documentos.\n",
    "            doc_ids (list): lista de ids de documentos\n",
    "            n (int): número de ids de documentos retornados\n",
    "        returns:\n",
    "            (list): Lista de ids de documentos\n",
    "    '''\n",
    "    \n",
    "    documentos = dados.loc[dados['idNoticia'].isin(doc_ids)] # filtra os documentos do dataset pelos ids fornecidos\n",
    "    documentos['total_tf'] = documentos.apply(lambda row: sum([row.tokens[termos[i]] for i in range(len(termos))]), axis=1) #calcula a frequência total dos termos passados na busca\n",
    "            \n",
    "    return list(documentos.nlargest(n, 'total_tf').idNoticia)"
   ]
  },
  {
   "cell_type": "markdown",
   "metadata": {},
   "source": [
    "### Resultados Busca_TF"
   ]
  },
  {
   "cell_type": "code",
   "execution_count": 20,
   "metadata": {},
   "outputs": [],
   "source": [
    "busca_tf_predicoes = [busca(\"segundo turno\", tipo=\"tf\"),busca(\"lava jato\", tipo=\"tf\"),busca(\"projeto de lei\", tipo=\"tf\"),\n",
    "                      busca(\"compra de voto\", tipo=\"tf\"),busca(\"ministério público\", tipo=\"tf\")]"
   ]
  },
  {
   "cell_type": "code",
   "execution_count": 21,
   "metadata": {},
   "outputs": [
    {
     "data": {
      "text/plain": [
       "[[2744, 7, 2112, 7672, 2388],\n",
       " [163, 353, 2807, 127, 359],\n",
       " [7, 3942, 7017, 1250, 6942],\n",
       " [3942, 7017, 5129, 2047, 748],\n",
       " [6798, 8018, 6244, 6965, 6550]]"
      ]
     },
     "execution_count": 21,
     "metadata": {},
     "output_type": "execute_result"
    }
   ],
   "source": [
    "busca_tf_predicoes"
   ]
  },
  {
   "cell_type": "code",
   "execution_count": 22,
   "metadata": {},
   "outputs": [],
   "source": [
    "def busca_tfidf(termos, doc_ids, n):\n",
    "    \n",
    "    '''\n",
    "        Retorna os ids dos documentos a partir do tfidf total dos termos.\n",
    "        params:\n",
    "            termos (list): lista de termos presentes nos documentos.\n",
    "            doc_ids (list): lista de ids de documentos\n",
    "            n (int): número de ids de documentos retornados\n",
    "        returns:\n",
    "            (list): Lista de ids de documentos\n",
    "    '''\n",
    "    \n",
    "    documentos = dados.loc[dados['idNoticia'].isin(doc_ids)]\n",
    "    \n",
    "    documentos['total_tfidf'] = documentos.apply(lambda row: sum([row.loc['tokens'][termos[i]]*idf(termos[i], indice_invertido) for i in range(len(termos))]), axis=1)\n",
    "    \n",
    "    \n",
    "    return list(documentos.nlargest(n, 'total_tfidf').idNoticia)"
   ]
  },
  {
   "cell_type": "markdown",
   "metadata": {},
   "source": [
    "### Resultados Busca_TFIDF"
   ]
  },
  {
   "cell_type": "code",
   "execution_count": 23,
   "metadata": {},
   "outputs": [],
   "source": [
    "busca_tfidf_predicoes = [busca(\"segundo turno\", tipo=\"tfidf\"),busca(\"lava jato\", tipo=\"tfidf\"),busca(\"projeto de lei\", tipo=\"tfidf\"),\n",
    "                      busca(\"compra de voto\", tipo=\"tfidf\"),busca(\"ministério público\", tipo=\"tfidf\")]"
   ]
  },
  {
   "cell_type": "code",
   "execution_count": 24,
   "metadata": {},
   "outputs": [
    {
     "data": {
      "text/plain": [
       "[[2744, 2112, 7672, 1235, 2388],\n",
       " [163, 353, 2807, 127, 359],\n",
       " [7017, 2853, 7, 2232, 3171],\n",
       " [2047, 7017, 7343, 7293, 5129],\n",
       " [6798, 8018, 6244, 6965, 6550]]"
      ]
     },
     "execution_count": 24,
     "metadata": {},
     "output_type": "execute_result"
    }
   ],
   "source": [
    "busca_tfidf_predicoes"
   ]
  },
  {
   "cell_type": "code",
   "execution_count": 25,
   "metadata": {},
   "outputs": [],
   "source": [
    "def busca_bm25(termos, doc_ids, n):\n",
    "    \n",
    "    '''\n",
    "        Retorna os ids dos documentos a partir do cálculo bm25 dos termos.\n",
    "        params:\n",
    "            termos (list): lista de termos presentes nos documentos.\n",
    "            doc_ids (list): lista de ids de documentos\n",
    "            n (int): número de ids de documentos retornados\n",
    "        returns:\n",
    "            (list): Lista de ids de documentos\n",
    "    '''\n",
    "    documentos = dados.loc[dados['idNoticia'].isin(doc_ids)]\n",
    "    \n",
    "    K = np.random.uniform(1.2, 2)\n",
    "    b = 0.75\n",
    "    \n",
    "    documentos['total_bm25'] = documentos.apply(lambda row: sum([(idf(termos[i], indice_invertido)*row['tokens'][termos[i]]*(K+1))/(row['tokens'][termos[i]] + K) for i in range(len(termos))]), axis=1)\n",
    "    \n",
    "    return list(documentos.nlargest(5, 'total_bm25').idNoticia)"
   ]
  },
  {
   "cell_type": "markdown",
   "metadata": {},
   "source": [
    "### Resultados BM25"
   ]
  },
  {
   "cell_type": "code",
   "execution_count": 26,
   "metadata": {},
   "outputs": [],
   "source": [
    "busca_bm25_predicoes = [busca(\"segundo turno\", tipo=\"bm25\"),busca(\"lava jato\", tipo=\"bm25\"),busca(\"projeto de lei\", tipo=\"bm25\"),\n",
    "                      busca(\"compra de voto\", tipo=\"bm25\"),busca(\"ministério público\", tipo=\"bm25\")]"
   ]
  },
  {
   "cell_type": "code",
   "execution_count": 27,
   "metadata": {},
   "outputs": [
    {
     "data": {
      "text/plain": [
       "[[2744, 2112, 7672, 2388, 2178],\n",
       " [163, 353, 2807, 127, 359],\n",
       " [2853, 3171, 2232, 6699, 6461],\n",
       " [2200, 2047, 7343, 2178, 7293],\n",
       " [6798, 8018, 6244, 6965, 6550]]"
      ]
     },
     "execution_count": 27,
     "metadata": {},
     "output_type": "execute_result"
    }
   ],
   "source": [
    "busca_bm25_predicoes"
   ]
  },
  {
   "cell_type": "markdown",
   "metadata": {},
   "source": [
    "## Avaliação"
   ]
  },
  {
   "cell_type": "markdown",
   "metadata": {},
   "source": [
    "#### Carrega gabarito"
   ]
  },
  {
   "cell_type": "code",
   "execution_count": 28,
   "metadata": {},
   "outputs": [],
   "source": [
    "df = pd.read_csv('../dados/gabarito.csv')"
   ]
  },
  {
   "cell_type": "code",
   "execution_count": 29,
   "metadata": {},
   "outputs": [
    {
     "data": {
      "text/html": [
       "<div>\n",
       "<style scoped>\n",
       "    .dataframe tbody tr th:only-of-type {\n",
       "        vertical-align: middle;\n",
       "    }\n",
       "\n",
       "    .dataframe tbody tr th {\n",
       "        vertical-align: top;\n",
       "    }\n",
       "\n",
       "    .dataframe thead th {\n",
       "        text-align: right;\n",
       "    }\n",
       "</style>\n",
       "<table border=\"1\" class=\"dataframe\">\n",
       "  <thead>\n",
       "    <tr style=\"text-align: right;\">\n",
       "      <th></th>\n",
       "      <th>str_busca</th>\n",
       "      <th>google</th>\n",
       "      <th>busca_binaria</th>\n",
       "      <th>tf</th>\n",
       "      <th>tfidf</th>\n",
       "      <th>bm25</th>\n",
       "    </tr>\n",
       "  </thead>\n",
       "  <tbody>\n",
       "    <tr>\n",
       "      <th>0</th>\n",
       "      <td>segundo turno</td>\n",
       "      <td>[1062, 1942, 2161, 2078, 2073]</td>\n",
       "      <td>[2048, 1, 2049, 2050, 4096]</td>\n",
       "      <td>[2744, 7, 2112, 7672, 2388]</td>\n",
       "      <td>[2744, 2112, 7672, 1235, 2388]</td>\n",
       "      <td>[2744, 2112, 7672, 2388, 2178]</td>\n",
       "    </tr>\n",
       "    <tr>\n",
       "      <th>1</th>\n",
       "      <td>lava jato</td>\n",
       "      <td>[616, 164, 1734, 163, 6716]</td>\n",
       "      <td>[3, 13, 15, 27, 6177]</td>\n",
       "      <td>[163, 353, 2807, 127, 359]</td>\n",
       "      <td>[163, 353, 2807, 127, 359]</td>\n",
       "      <td>[163, 353, 2807, 127, 359]</td>\n",
       "    </tr>\n",
       "    <tr>\n",
       "      <th>2</th>\n",
       "      <td>projeto de lei</td>\n",
       "      <td>[2853, 275, 978, 7092, 3171]</td>\n",
       "      <td>[3584, 6145, 8194, 8706, 6660]</td>\n",
       "      <td>[7, 3942, 7017, 1250, 6942]</td>\n",
       "      <td>[2232, 6461, 2853, 3171, 3942]</td>\n",
       "      <td>[2232, 6461, 3171, 2853, 3170]</td>\n",
       "    </tr>\n",
       "    <tr>\n",
       "      <th>3</th>\n",
       "      <td>compra de voto</td>\n",
       "      <td>[2200, 8615, 2265, 7746, 82]</td>\n",
       "      <td>[7424, 2178, 6531, 5122, 2311]</td>\n",
       "      <td>[3942, 7017, 5129, 2047, 748]</td>\n",
       "      <td>[7343, 7293, 6791, 3942, 2047]</td>\n",
       "      <td>[7343, 7293, 6791, 7329, 8615]</td>\n",
       "    </tr>\n",
       "    <tr>\n",
       "      <th>4</th>\n",
       "      <td>ministério público</td>\n",
       "      <td>[64, 6652, 164, 6550, 8615]</td>\n",
       "      <td>[8194, 7, 4104, 8201, 4109]</td>\n",
       "      <td>[6798, 8018, 6244, 6965, 6550]</td>\n",
       "      <td>[6798, 8018, 6244, 6965, 6550]</td>\n",
       "      <td>[6798, 8018, 6244, 6965, 6550]</td>\n",
       "    </tr>\n",
       "  </tbody>\n",
       "</table>\n",
       "</div>"
      ],
      "text/plain": [
       "            str_busca                          google  \\\n",
       "0       segundo turno  [1062, 1942, 2161, 2078, 2073]   \n",
       "1           lava jato     [616, 164, 1734, 163, 6716]   \n",
       "2      projeto de lei    [2853, 275, 978, 7092, 3171]   \n",
       "3      compra de voto    [2200, 8615, 2265, 7746, 82]   \n",
       "4  ministério público     [64, 6652, 164, 6550, 8615]   \n",
       "\n",
       "                    busca_binaria                              tf  \\\n",
       "0     [2048, 1, 2049, 2050, 4096]     [2744, 7, 2112, 7672, 2388]   \n",
       "1           [3, 13, 15, 27, 6177]      [163, 353, 2807, 127, 359]   \n",
       "2  [3584, 6145, 8194, 8706, 6660]     [7, 3942, 7017, 1250, 6942]   \n",
       "3  [7424, 2178, 6531, 5122, 2311]   [3942, 7017, 5129, 2047, 748]   \n",
       "4     [8194, 7, 4104, 8201, 4109]  [6798, 8018, 6244, 6965, 6550]   \n",
       "\n",
       "                            tfidf                            bm25  \n",
       "0  [2744, 2112, 7672, 1235, 2388]  [2744, 2112, 7672, 2388, 2178]  \n",
       "1      [163, 353, 2807, 127, 359]      [163, 353, 2807, 127, 359]  \n",
       "2  [2232, 6461, 2853, 3171, 3942]  [2232, 6461, 3171, 2853, 3170]  \n",
       "3  [7343, 7293, 6791, 3942, 2047]  [7343, 7293, 6791, 7329, 8615]  \n",
       "4  [6798, 8018, 6244, 6965, 6550]  [6798, 8018, 6244, 6965, 6550]  "
      ]
     },
     "execution_count": 29,
     "metadata": {},
     "output_type": "execute_result"
    }
   ],
   "source": [
    "df"
   ]
  },
  {
   "cell_type": "markdown",
   "metadata": {},
   "source": [
    "#### Ajuste de tipo string para lista de inteiros nas células do dataframe"
   ]
  },
  {
   "cell_type": "code",
   "execution_count": 30,
   "metadata": {},
   "outputs": [],
   "source": [
    "gabarito = pd.concat([df.str_busca,df.loc[:, df.columns != 'str_busca'].applymap(lambda cell: [int(idx) for idx in cell.replace('[','').replace(']','').strip().split(',')])], axis=1)"
   ]
  },
  {
   "cell_type": "code",
   "execution_count": null,
   "metadata": {},
   "outputs": [],
   "source": []
  },
  {
   "cell_type": "markdown",
   "metadata": {},
   "source": [
    "### Métrica de avaliação: Mean Average Precision"
   ]
  },
  {
   "cell_type": "code",
   "execution_count": 31,
   "metadata": {},
   "outputs": [],
   "source": [
    "#fonte: https://github.com/benhamner/Metrics/blob/master/Python/ml_metrics/average_precision.py\n",
    "\n",
    "def apk(actual, predicted, k=5):\n",
    "    \"\"\"\n",
    "    Computes the average precision at k.\n",
    "    This function computes the average prescision at k between two lists of\n",
    "    items.\n",
    "    Parameters\n",
    "    ----------\n",
    "    actual : list\n",
    "             A list of elements that are to be predicted (order doesn't matter)\n",
    "    predicted : list\n",
    "                A list of predicted elements (order does matter)\n",
    "    k : int, optional\n",
    "        The maximum number of predicted elements\n",
    "    Returns\n",
    "    -------\n",
    "    score : double\n",
    "            The average precision at k over the input lists\n",
    "    \"\"\"\n",
    "    if len(predicted)>k:\n",
    "        predicted = predicted[:k]\n",
    "\n",
    "    score = 0.0\n",
    "    num_hits = 0.0\n",
    "\n",
    "    for i,p in enumerate(predicted):\n",
    "        if p in actual and p not in predicted[:i]:\n",
    "            num_hits += 1.0\n",
    "            score += num_hits / (i+1.0)\n",
    "\n",
    "    if not actual:\n",
    "        return 0.0\n",
    "\n",
    "    return score / min(len(actual), k)\n",
    "\n",
    "def mapk(actual, predicted, k=10):\n",
    "    \"\"\"\n",
    "    Computes the mean average precision at k.\n",
    "    This function computes the mean average prescision at k between two lists\n",
    "    of lists of items.\n",
    "    Parameters\n",
    "    ----------\n",
    "    actual : list\n",
    "             A list of lists of elements that are to be predicted \n",
    "             (order doesn't matter in the lists)\n",
    "    predicted : list\n",
    "                A list of lists of predicted elements\n",
    "                (order matters in the lists)\n",
    "    k : int, optional\n",
    "        The maximum number of predicted elements\n",
    "    Returns\n",
    "    -------\n",
    "    score : double\n",
    "            The mean average precision at k over the input lists\n",
    "    \"\"\"\n",
    "    return np.mean([apk(a,p,k) for a,p in zip(actual, predicted)])"
   ]
  },
  {
   "cell_type": "markdown",
   "metadata": {},
   "source": [
    "### Comparando com as saídas do gabarito proposto"
   ]
  },
  {
   "cell_type": "code",
   "execution_count": 32,
   "metadata": {},
   "outputs": [],
   "source": [
    "mapks_gabarito = [mapk(list(gabarito.busca_binaria), list(busca_binaria_predicoes), k=5),\n",
    "                 mapk(list(gabarito.tf), list(busca_tf_predicoes), k=5),\n",
    "                 mapk(list(gabarito.tfidf), list(busca_tfidf_predicoes), k=5),\n",
    "                 mapk(list(gabarito.bm25), list(busca_bm25_predicoes), k=5)]"
   ]
  },
  {
   "cell_type": "code",
   "execution_count": 33,
   "metadata": {},
   "outputs": [
    {
     "data": {
      "image/png": "[encoded data removed]",
      "text/plain": [
       "<matplotlib.figure.Figure at 0x1c20657f98>"
      ]
     },
     "metadata": {},
     "output_type": "display_data"
    },
    {
     "data": {
      "text/plain": [
       "<ggplot: (7550162836)>"
      ]
     },
     "execution_count": 33,
     "metadata": {},
     "output_type": "execute_result"
    }
   ],
   "source": [
    "df = pd.DataFrame({'modelo': ['binaria', 'tf', 'tfidf', 'bm25'], 'map':mapks_gabarito})\n",
    "\n",
    "ggplot(df,aes(x='modelo',weight='map')) + \\\n",
    "    geom_bar(stat=\"identity\") + \\\n",
    "    ylab('map') + ggtitle(\"Mean Average Precision - Gabarito Proposto\")"
   ]
  },
  {
   "cell_type": "markdown",
   "metadata": {},
   "source": [
    "### Comparando com as saídas do Google"
   ]
  },
  {
   "cell_type": "code",
   "execution_count": 34,
   "metadata": {},
   "outputs": [],
   "source": [
    "mapks_google = [mapk(list(gabarito.google), list(busca_binaria_predicoes), k=5),mapk(list(gabarito.google), list(busca_tf_predicoes), k=5),\n",
    "        mapk(list(gabarito.google), list(busca_tfidf_predicoes), k=5), mapk(list(gabarito.google), list(busca_bm25_predicoes), k=5)]"
   ]
  },
  {
   "cell_type": "code",
   "execution_count": 35,
   "metadata": {},
   "outputs": [
    {
     "data": {
      "image/png": "[encoded data removed]",
      "text/plain": [
       "<matplotlib.figure.Figure at 0x1c22f4aac8>"
      ]
     },
     "metadata": {},
     "output_type": "display_data"
    },
    {
     "data": {
      "text/plain": [
       "<ggplot: (-9223372029301935202)>"
      ]
     },
     "execution_count": 35,
     "metadata": {},
     "output_type": "execute_result"
    }
   ],
   "source": [
    "df = pd.DataFrame({'modelo': ['binaria', 'tf', 'tfidf', 'bm25'], 'map':mapks_google})\n",
    "\n",
    "ggplot(df,aes(x='modelo',weight='map')) + \\\n",
    "    geom_bar(stat=\"identity\") + \\\n",
    "    ylab('map') + ggtitle(\"Mean Average Precision - Google\")"
   ]
  }
 ],
 "metadata": {
  "kernelspec": {
   "display_name": "Python [default]",
   "language": "python",
   "name": "python3"
  },
  "language_info": {
   "codemirror_mode": {
    "name": "ipython",
    "version": 3
   },
   "file_extension": ".py",
   "mimetype": "text/x-python",
   "name": "python",
   "nbconvert_exporter": "python",
   "pygments_lexer": "ipython3",
   "version": "3.6.4"
  }
 },
 "nbformat": 4,
 "nbformat_minor": 2
}
